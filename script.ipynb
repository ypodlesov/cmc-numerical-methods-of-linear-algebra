{
 "cells": [
  {
   "cell_type": "code",
   "execution_count": 16,
   "metadata": {},
   "outputs": [
    {
     "data": {
      "text/plain": [
       "Index(['68.4', '-0.4', '-0.6', '1.1', '-0.4.1', '1.8', '-0.6.1', '0.1',\n",
       "       '-0.6.2', '-1.4', '0.8', '0.1.1', '-1.4.1', '-0.4.2', '0.3', '-0.7',\n",
       "       '0.6', '1.5', '-1.3', '-1.6', '-0.2', '1.5.1', '0.7', '-0.3', '0.9',\n",
       "       '0.1.2', '0.1.3', '0.7.1', '0.1.4', '-1.1', '0.6.1', '0.1.5', '0.3.1',\n",
       "       '-0.8', '-1.1.1', '-1.3.1', '1.0', '-0.1', '-0.7.1', '0.1.6', '0.8.1',\n",
       "       '0.8.2', '0.2', '-0.6.3', '0.5', '0.6.2', '1.0.1', '0.1.7', '0.1.8',\n",
       "       '-0.2.1', '1.0.2', '0.5.1', '-1.3.2', '1.0.3', '-0.5', '-0.4.3',\n",
       "       '1.1.1', '-1.5', '-0.1.1', '-0.7.2', '-0.2.2', '0.7.2', '-0.9',\n",
       "       '-0.1.2', '-0.3.1', '0.3.2', '-0.5.1', '0.6.3', '-0.4.4', '0.2.1',\n",
       "       '0.5.2', '1.4', '-1.1.2', '1.3', '1.0.4', '0.1.9', '-1.0', '-0.9.1',\n",
       "       '0.4', '-0.9.2', '-0.8.1', '-1.4.2', '0.1.10', '-0.3.2', '0.1.11',\n",
       "       '0.5.3', '1.5.2', '-0.9.3', '0.7.3', '-1.7', '-0.6.4', '-0.4.5',\n",
       "       '-0.6.5', '0.4.1', '-1.2', '1.1.2', '-0.8.2', '1.2', '0.3.3', '0.5.4'],\n",
       "      dtype='object')"
      ]
     },
     "execution_count": 16,
     "metadata": {},
     "output_type": "execute_result"
    }
   ],
   "source": [
    "import pandas as pd\n",
    "\n",
    "table = pd.read_csv('SLAU_var_5.csv', sep=',', header=0)\n",
    "table.columns\n",
    "\n",
    "# solution_vector = [table.columns[-1]].append(table[table.columns[-1]])\n",
    "# len(solution_vector)\n"
   ]
  },
  {
   "cell_type": "code",
   "execution_count": 19,
   "metadata": {},
   "outputs": [
    {
     "name": "stdout",
     "output_type": "stream",
     "text": [
      "100\n"
     ]
    }
   ],
   "source": [
    "import csv\n",
    " \n",
    "def read_csv_to_matrix(file_path):\n",
    "    matrix = []\n",
    "    with open(file_path, 'r') as file:\n",
    "        csv_reader = csv.reader(file)\n",
    "        for row in csv_reader:\n",
    "            matrix.append(row)\n",
    "    return matrix\n",
    "\n",
    "matrix = read_csv_to_matrix('SLAU_var_5.csv')\n",
    "print(len(matrix[0]))"
   ]
  }
 ],
 "metadata": {
  "kernelspec": {
   "display_name": "Python 3",
   "language": "python",
   "name": "python3"
  },
  "language_info": {
   "codemirror_mode": {
    "name": "ipython",
    "version": 3
   },
   "file_extension": ".py",
   "mimetype": "text/x-python",
   "name": "python",
   "nbconvert_exporter": "python",
   "pygments_lexer": "ipython3",
   "version": "3.10.12"
  }
 },
 "nbformat": 4,
 "nbformat_minor": 2
}
